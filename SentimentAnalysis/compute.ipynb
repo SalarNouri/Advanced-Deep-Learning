{
  "nbformat": 4,
  "nbformat_minor": 0,
  "metadata": {
    "language_info": {
      "codemirror_mode": {
        "name": "ipython",
        "version": 3
      },
      "file_extension": ".py",
      "mimetype": "text/x-python",
      "name": "python",
      "nbconvert_exporter": "python",
      "pygments_lexer": "ipython3",
      "version": "3.8.5-final"
    },
    "orig_nbformat": 2,
    "kernelspec": {
      "name": "python38564bitadlvenvbd9a5c10f53f49eca40cc1477bddc462",
      "display_name": "Python 3.8.5 64-bit ('adl': venv)",
      "language": "python"
    },
    "colab": {
      "name": "compute.ipynb",
      "provenance": [],
      "include_colab_link": true
    }
  },
  "cells": [
    {
      "cell_type": "markdown",
      "metadata": {
        "id": "view-in-github",
        "colab_type": "text"
      },
      "source": [
        "<a href=\"https://colab.research.google.com/github/SalarNouri/Advanced-Deep-Learning/blob/main/SentimentAnalysis/compute.ipynb\" target=\"_parent\"><img src=\"https://colab.research.google.com/assets/colab-badge.svg\" alt=\"Open In Colab\"/></a>"
      ]
    },
    {
      "cell_type": "code",
      "metadata": {
        "id": "NIvGQcmbFOEg",
        "outputId": "da117ee2-50c9-4a23-b7c1-316474ead493",
        "colab": {
          "base_uri": "https://localhost:8080/"
        }
      },
      "source": [
        "pip install pytorch-pretrained-bert"
      ],
      "execution_count": 12,
      "outputs": [
        {
          "output_type": "stream",
          "text": [
            "Collecting pytorch-pretrained-bert\n",
            "\u001b[?25l  Downloading https://files.pythonhosted.org/packages/d7/e0/c08d5553b89973d9a240605b9c12404bcf8227590de62bae27acbcfe076b/pytorch_pretrained_bert-0.6.2-py3-none-any.whl (123kB)\n",
            "\r\u001b[K     |██▋                             | 10kB 14.4MB/s eta 0:00:01\r\u001b[K     |█████▎                          | 20kB 19.1MB/s eta 0:00:01\r\u001b[K     |████████                        | 30kB 23.1MB/s eta 0:00:01\r\u001b[K     |██████████▋                     | 40kB 25.7MB/s eta 0:00:01\r\u001b[K     |█████████████▎                  | 51kB 23.3MB/s eta 0:00:01\r\u001b[K     |███████████████▉                | 61kB 20.3MB/s eta 0:00:01\r\u001b[K     |██████████████████▌             | 71kB 18.0MB/s eta 0:00:01\r\u001b[K     |█████████████████████▏          | 81kB 14.0MB/s eta 0:00:01\r\u001b[K     |███████████████████████▉        | 92kB 15.1MB/s eta 0:00:01\r\u001b[K     |██████████████████████████▌     | 102kB 16.0MB/s eta 0:00:01\r\u001b[K     |█████████████████████████████▏  | 112kB 16.0MB/s eta 0:00:01\r\u001b[K     |███████████████████████████████▊| 122kB 16.0MB/s eta 0:00:01\r\u001b[K     |████████████████████████████████| 133kB 16.0MB/s \n",
            "\u001b[?25hRequirement already satisfied: tqdm in /usr/local/lib/python3.7/dist-packages (from pytorch-pretrained-bert) (4.41.1)\n",
            "Requirement already satisfied: torch>=0.4.1 in /usr/local/lib/python3.7/dist-packages (from pytorch-pretrained-bert) (1.8.1+cu101)\n",
            "Requirement already satisfied: regex in /usr/local/lib/python3.7/dist-packages (from pytorch-pretrained-bert) (2019.12.20)\n",
            "Requirement already satisfied: numpy in /usr/local/lib/python3.7/dist-packages (from pytorch-pretrained-bert) (1.19.5)\n",
            "Requirement already satisfied: requests in /usr/local/lib/python3.7/dist-packages (from pytorch-pretrained-bert) (2.23.0)\n",
            "Collecting boto3\n",
            "\u001b[?25l  Downloading https://files.pythonhosted.org/packages/aa/98/e9459d65ad8ab27886bf9d86a537e6f65b5bdbc4c7de68ba45b524ef74a1/boto3-1.17.52-py2.py3-none-any.whl (131kB)\n",
            "\u001b[K     |████████████████████████████████| 133kB 31.0MB/s \n",
            "\u001b[?25hRequirement already satisfied: typing-extensions in /usr/local/lib/python3.7/dist-packages (from torch>=0.4.1->pytorch-pretrained-bert) (3.7.4.3)\n",
            "Requirement already satisfied: chardet<4,>=3.0.2 in /usr/local/lib/python3.7/dist-packages (from requests->pytorch-pretrained-bert) (3.0.4)\n",
            "Requirement already satisfied: idna<3,>=2.5 in /usr/local/lib/python3.7/dist-packages (from requests->pytorch-pretrained-bert) (2.10)\n",
            "Requirement already satisfied: urllib3!=1.25.0,!=1.25.1,<1.26,>=1.21.1 in /usr/local/lib/python3.7/dist-packages (from requests->pytorch-pretrained-bert) (1.24.3)\n",
            "Requirement already satisfied: certifi>=2017.4.17 in /usr/local/lib/python3.7/dist-packages (from requests->pytorch-pretrained-bert) (2020.12.5)\n",
            "Collecting jmespath<1.0.0,>=0.7.1\n",
            "  Downloading https://files.pythonhosted.org/packages/07/cb/5f001272b6faeb23c1c9e0acc04d48eaaf5c862c17709d20e3469c6e0139/jmespath-0.10.0-py2.py3-none-any.whl\n",
            "Collecting s3transfer<0.4.0,>=0.3.0\n",
            "\u001b[?25l  Downloading https://files.pythonhosted.org/packages/00/89/0cb4e92c239e6425b9b0035227b8cdf9d3d098a5c9e95632c3815df63a09/s3transfer-0.3.7-py2.py3-none-any.whl (73kB)\n",
            "\u001b[K     |████████████████████████████████| 81kB 7.7MB/s \n",
            "\u001b[?25hCollecting botocore<1.21.0,>=1.20.52\n",
            "\u001b[?25l  Downloading https://files.pythonhosted.org/packages/8f/f3/be57d6b74618db08bcc67be52da014c8d12132fedb1d12457c386b7be373/botocore-1.20.52-py2.py3-none-any.whl (7.4MB)\n",
            "\u001b[K     |████████████████████████████████| 7.4MB 32.0MB/s \n",
            "\u001b[?25hRequirement already satisfied: python-dateutil<3.0.0,>=2.1 in /usr/local/lib/python3.7/dist-packages (from botocore<1.21.0,>=1.20.52->boto3->pytorch-pretrained-bert) (2.8.1)\n",
            "Requirement already satisfied: six>=1.5 in /usr/local/lib/python3.7/dist-packages (from python-dateutil<3.0.0,>=2.1->botocore<1.21.0,>=1.20.52->boto3->pytorch-pretrained-bert) (1.15.0)\n",
            "\u001b[31mERROR: botocore 1.20.52 has requirement urllib3<1.27,>=1.25.4, but you'll have urllib3 1.24.3 which is incompatible.\u001b[0m\n",
            "Installing collected packages: jmespath, botocore, s3transfer, boto3, pytorch-pretrained-bert\n",
            "Successfully installed boto3-1.17.52 botocore-1.20.52 jmespath-0.10.0 pytorch-pretrained-bert-0.6.2 s3transfer-0.3.7\n"
          ],
          "name": "stdout"
        }
      ]
    },
    {
      "cell_type": "code",
      "metadata": {
        "id": "DHzYX19aDZYv"
      },
      "source": [
        "import re\n",
        "import torch\n",
        "import pandas as pd\n",
        "from torch.utils.data import dataloader, Dataset\n",
        "from pytorch_pretrained_bert import BertTokenizer\n",
        "\n",
        "PAD: int = 40\n",
        "\n",
        "def _parse_imdb_line(line):\n",
        "    line = line.strip().lower()\n",
        "    line = line.replace(\"&nbsp;\", \" \")\n",
        "    line = re.sub(r'<br(\\s\\/)?>', ' ', line)\n",
        "    line = re.sub(r' +', ' ', line)  # merge multiple spaces to one\n",
        "    return line\n",
        "\n",
        "\n",
        "class SentimentDataset(Dataset):\n",
        "\n",
        "    def __init__(self, dataframe):\n",
        "        self.df = dataframe\n",
        "        self.tokenizer = BertTokenizer.from_pretrained('bert-base-uncased', do_lower_case=True)\n",
        "\n",
        "    def __len__(self) -> int:\n",
        "        return len(self.df)\n",
        "\n",
        "    def __getitem__(self, idx):\n",
        "        label = torch.tensor(self.df['Sentiment'][idx], dtype = torch.uint8) \n",
        "        tokens = self.tokenizer.encode_plus(\n",
        "                        text = self.df['Phrase_filter'][idx],\n",
        "                        add_special_tokens = True, \n",
        "                        max_length = PAD, \n",
        "                        pad_to_max_length = True, \n",
        "                        return_attention_mask = True, \n",
        "                        return_tensors = 'pt', \n",
        "                        return_token_type_ids = False)\n",
        "        ids = tokens['input_ids']\n",
        "        attn_mask = tokens['attention_mask']\n",
        "\n",
        "        return ids, label, attn_mask"
      ],
      "execution_count": 17,
      "outputs": []
    },
    {
      "cell_type": "code",
      "metadata": {
        "id": "pSf-lp1GDZZA",
        "outputId": "64ddd0a3-d783-44ac-a5cd-c5cc375403d7",
        "colab": {
          "base_uri": "https://localhost:8080/"
        }
      },
      "source": [
        "df = pd.read_csv(\"train.tsv\", sep=\"\\t\")\n",
        "df.Phrase_filter = df.Phrase.apply(lambda rec: _parse_imdb_line(rec))\n",
        "data = SentimentDataset(dataframe=df)"
      ],
      "execution_count": 18,
      "outputs": [
        {
          "output_type": "stream",
          "text": [
            "/usr/local/lib/python3.7/dist-packages/ipykernel_launcher.py:2: UserWarning: Pandas doesn't allow columns to be created via a new attribute name - see https://pandas.pydata.org/pandas-docs/stable/indexing.html#attribute-access\n",
            "  \n"
          ],
          "name": "stderr"
        }
      ]
    },
    {
      "cell_type": "code",
      "metadata": {
        "id": "9nTknpChDZZB"
      },
      "source": [
        "PAD = 40\n",
        "Test = pd.read_csv(TEST_CSV_PATH, index_col = 0)\n",
        "Train = pd.read_csv(TRAIN_CSV_PATH, index_col = 0)\n",
        "Val = Train.sample(n = 30000)\n",
        "Val = Val.reset_index(drop = True)\n",
        "Train = Train.drop(Val.index).reset_index(drop = True)\n",
        "\n",
        "train_data = SentimentDataset(Train)\n",
        "val_data = SentimentDataset(Val)\n",
        "test_data = SentimentDataset(Test)"
      ],
      "execution_count": null,
      "outputs": []
    },
    {
      "cell_type": "code",
      "metadata": {
        "id": "FhB431C5DZZB"
      },
      "source": [
        "import torch\n",
        "import torch.nn as nn\n",
        "from transformers import BertModel, BertConfig\n",
        "import torch.nn.functional as F\n",
        "\n",
        "class BertForSentiment(nn.Module):\n",
        "\n",
        "    def __init__(self, vocab_file,\n",
        "                 num_classes,\n",
        "                 hidden_size=768,\n",
        "                 num_hidden_layers=12,\n",
        "                 num_attention_heads=12,\n",
        "                 hidden_dropout_prob=0.1):\n",
        "        super(BertForSentiment, self).__init__()\n",
        "        self.config = BertConfig(hidden_size=hidden_size,\n",
        "                                 num_hiddel_layers=num_hidden_layers,\n",
        "                                 num_attention_heads=num_attention_heads,\n",
        "                                 hidden_dropout_prob=hidden_dropout_prob)\n",
        "        self.bert = BertModel.from_pretrained(vocab_file)\n",
        "        self.dropout = nn.Dropout(hidden_dropout_prob)\n",
        "        self.classifier = nn.Linear(hidden_size, num_classes)\n",
        "\n",
        "    def forward(self, input_ids, attention_mask, token_type_ids=None, labels=None):\n",
        "        # sequence_output, pooled_output, (hidden_states), (attentions)\n",
        "        outputs = self.bert(input_ids=input_ids,\n",
        "                            attention_mask=attention_mask,\n",
        "                            token_type_ids=token_type_ids)num_classes\n",
        "        pooled_output = self.dropout(outputs[1])\n",
        "        logits = self.classifier(pooled_output)\n",
        "        log_logits = F.log_softmax(logits)\n",
        "        return log_logits"
      ],
      "execution_count": null,
      "outputs": []
    }
  ]
}