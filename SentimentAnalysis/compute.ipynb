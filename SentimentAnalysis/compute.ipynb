{
 "metadata": {
  "language_info": {
   "codemirror_mode": {
    "name": "ipython",
    "version": 3
   },
   "file_extension": ".py",
   "mimetype": "text/x-python",
   "name": "python",
   "nbconvert_exporter": "python",
   "pygments_lexer": "ipython3",
   "version": "3.8.5-final"
  },
  "orig_nbformat": 2,
  "kernelspec": {
   "name": "python38564bitadlvenvbd9a5c10f53f49eca40cc1477bddc462",
   "display_name": "Python 3.8.5 64-bit ('adl': venv)",
   "language": "python"
  }
 },
 "nbformat": 4,
 "nbformat_minor": 2,
 "cells": [
  {
   "cell_type": "code",
   "execution_count": 4,
   "metadata": {},
   "outputs": [],
   "source": [
    "import re\n",
    "import torch\n",
    "import pandas as pd\n",
    "from torch.utils.data import dataloader, Dataset\n",
    "from pytorch_pretrained_bert import BertTokenizer\n",
    "\n",
    "PAD: int = 40\n",
    "\n",
    "def _parse_imdb_line(line):\n",
    "    line = line.strip().lower()\n",
    "    line = line.replace(\"&nbsp;\", \" \")\n",
    "    line = re.sub(r'<br(\\s\\/)?>', ' ', line)\n",
    "    line = re.sub(r' +', ' ', line)  # merge multiple spaces to one\n",
    "    return line\n",
    "\n",
    "\n",
    "class SentimentDataset(Dataset):\n",
    "\n",
    "    def __init__(self, dataframe):\n",
    "        self.df = dataframe\n",
    "        self.tokenizer = BertTokenizer.from_pretrained('bert-base-uncased', do_lower_case=True)\n",
    "\n",
    "    def __len__(self):\n",
    "        return len(self.df)\n",
    "\n",
    "    def __getitem__(self, idx):\n",
    "        label = torch.tensor(self.df['Sentiment'][idx], dtype = torch.uint8) \n",
    "        tokens = self.tokenizer.encode_plus(\n",
    "                        text = self.df['Phrase_filter'][idx],\n",
    "                        add_special_tokens = True, \n",
    "                        max_length = PAD, \n",
    "                        pad_to_max_length = True, \n",
    "                        return_attention_mask = True, \n",
    "                        return_tensors = 'pt', \n",
    "                        return_token_type_ids = False)\n",
    "        ids = tokens['input_ids']\n",
    "        attn_mask = tokens['attention_mask']\n",
    "\n",
    "        return ids, label, attn_mask"
   ]
  },
  {
   "cell_type": "code",
   "execution_count": 5,
   "metadata": {},
   "outputs": [
    {
     "output_type": "stream",
     "name": "stderr",
     "text": [
      "<ipython-input-5-35b18df33e4a>:2: UserWarning: Pandas doesn't allow columns to be created via a new attribute name - see https://pandas.pydata.org/pandas-docs/stable/indexing.html#attribute-access\n  df.Phrase_filter = df.Phrase.apply(lambda rec: _parse_imdb_line(rec))\n"
     ]
    }
   ],
   "source": [
    "df = pd.read_csv(\"train.tsv\", sep=\"\\t\")\n",
    "df.Phrase_filter = df.Phrase.apply(lambda rec: _parse_imdb_line(rec))\n",
    "data_set = SentimentDataset(dataframe=df)"
   ]
  },
  {
   "cell_type": "code",
   "execution_count": null,
   "metadata": {},
   "outputs": [],
   "source": [
    "PAD = 40\n",
    "Test = pd.read_csv(TEST_CSV_PATH, index_col = 0)\n",
    "Train = pd.read_csv(TRAIN_CSV_PATH, index_col = 0)\n",
    "Val = Train.sample(n = 30000)\n",
    "Val = Val.reset_index(drop = True)\n",
    "Train = Train.drop(Val.index).reset_index(drop = True)\n",
    "\n",
    "train_data = SentimentDataset(Train)\n",
    "val_data = SentimentDataset(Val)\n",
    "test_data = SentimentDataset(Test)"
   ]
  },
  {
   "cell_type": "code",
   "execution_count": null,
   "metadata": {},
   "outputs": [],
   "source": [
    "import torch\n",
    "import torch.nn as nn\n",
    "from transformers import BertModel, BertConfig\n",
    "import torch.nn.functional as F\n",
    "\n",
    "class BertForSentiment(nn.Module):\n",
    "\n",
    "    def __init__(self, vocab_file,\n",
    "                 num_classes,\n",
    "                 hidden_size=768,\n",
    "                 num_hidden_layers=12,\n",
    "                 num_attention_heads=12,\n",
    "                 hidden_dropout_prob=0.1):\n",
    "        super(BertForSentiment, self).__init__()\n",
    "        self.config = BertConfig(hidden_size=hidden_size,\n",
    "                                 num_hiddel_layers=num_hidden_layers,\n",
    "                                 num_attention_heads=num_attention_heads,\n",
    "                                 hidden_dropout_prob=hidden_dropout_prob)\n",
    "        self.bert = BertModel.from_pretrained(vocab_file)\n",
    "        self.dropout = nn.Dropout(hidden_dropout_prob)\n",
    "        self.classifier = nn.Linear(hidden_size, num_classes)\n",
    "\n",
    "    def forward(self, input_ids, attention_mask, token_type_ids=None, labels=None):\n",
    "        # sequence_output, pooled_output, (hidden_states), (attentions)\n",
    "        outputs = self.bert(input_ids=input_ids,\n",
    "                            attention_mask=attention_mask,\n",
    "                            token_type_ids=token_type_ids)num_classes\n",
    "        pooled_output = self.dropout(outputs[1])\n",
    "        logits = self.classifier(pooled_output)\n",
    "        log_logits = F.log_softmax(logits)\n",
    "        return log_logits"
   ]
  }
 ]
}