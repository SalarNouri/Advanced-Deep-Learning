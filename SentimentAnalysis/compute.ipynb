{
  "nbformat": 4,
  "nbformat_minor": 0,
  "metadata": {
    "language_info": {
      "codemirror_mode": {
        "name": "ipython",
        "version": 3
      },
      "file_extension": ".py",
      "mimetype": "text/x-python",
      "name": "python",
      "nbconvert_exporter": "python",
      "pygments_lexer": "ipython3",
      "version": "3.8.5-final"
    },
    "orig_nbformat": 2,
    "kernelspec": {
      "name": "python38564bitadlvenvbd9a5c10f53f49eca40cc1477bddc462",
      "display_name": "Python 3.8.5 64-bit ('adl': venv)",
      "language": "python"
    },
    "colab": {
      "name": "compute.ipynb",
      "provenance": []
    }
  },
  "cells": [
    {
      "cell_type": "code",
      "metadata": {
        "id": "NIvGQcmbFOEg"
      },
      "source": [
        "pip install pytorch-pretrained-bert"
      ],
      "execution_count": null,
      "outputs": []
    },
    {
      "cell_type": "code",
      "metadata": {
        "id": "DHzYX19aDZYv"
      },
      "source": [
        "import re\n",
        "import torch\n",
        "import torch.nn as nn\n",
        "import torch.nn.functional as F\n",
        "import pandas as pd\n",
        "import numpy as np\n",
        "from torch.nn.utils import clip_grad_norm_\n",
        "from torch.utils.data import dataloader, Dataset, DataLoader\n",
        "from pytorch_pretrained_bert import BertTokenizer, BertModel, BertConfig\n",
        "from sklearn.model_selection import train_test_split\n",
        "\n",
        "\n",
        "PADDING_SIZE: int = 300\n",
        "batch_size: int = 32\n",
        "\n",
        "def _parse_line(line):\n",
        "    line = line.strip().lower()\n",
        "    line = line.replace(\"&nbsp;\", \" \")\n",
        "    line = re.sub(r'<br(\\s\\/)?>', ' ', line)\n",
        "    line = re.sub(r' +', ' ', line)  # merge multiple spaces to one\n",
        "    return line\n",
        "\n",
        "\n",
        "class MovieReviewDataset(Dataset):\n",
        "    def __init__(self, dataframe, padding_size: int):\n",
        "        self.tokenizer = BertTokenizer.from_pretrained('bert-base-uncased', do_lower_case=True)\n",
        "        self.reviews = dataframe['Phrase']\n",
        "        self.labels = torch.as_tensor(np.array(dataframe[\"Sentiment\"]), dtype=torch.long)\n",
        "        self.max_length = padding_size\n",
        "\n",
        "    def __len__(self):\n",
        "        return len(self.reviews)\n",
        "\n",
        "    def __getitem__(self, item):\n",
        "        encoded_dict = self.tokenizer.encode_plus(self.reviews[item],\n",
        "                                                  add_special_tokens = True,\n",
        "                                                  max_length = self.max_length,\n",
        "                                                  pad_to_max_length = True,\n",
        "                                                  return_attention_mask = True,\n",
        "                                                  return_tensors = 'pt')\n",
        "        return (encoded_dict['input_ids'].view(-1), \n",
        "                encoded_dict['attention_mask'].view(-1), \n",
        "                self.labels[item])\n",
        "    \n",
        "    \n",
        "\n",
        "class BertLayerNorm(nn.Module):\n",
        "    def __init__(self, hidden_size, eps=1e-12):\n",
        "        super(BertLayerNorm, self).__init__()\n",
        "        self.weight = nn.Parameter(torch.ones(hidden_size))\n",
        "        self.bias = nn.Parameter(torch.zeros(hidden_size))\n",
        "        self.variance_epsilon = eps\n",
        "\n",
        "    def forward(self, x):\n",
        "        u = x.mean(-1, keepdim=True)\n",
        "        s = (x - u).pow(2).mean(-1, keepdim=True)\n",
        "        x = (x - u) / torch.sqrt(s + self.variance_epsilon)\n",
        "        return self.weight * x + self.bias\n",
        "        \n",
        "\n",
        "class BertForSequenceClassification(nn.Module):\n",
        "    def __init__(self, num_labels=3):\n",
        "        super(BertForSequenceClassification, self).__init__()\n",
        "        self.num_labels = num_labels\n",
        "        self.bert = BertModel.from_pretrained('bert-base-uncased')\n",
        "        self.dropout = nn.Dropout(config.hidden_dropout_prob)\n",
        "        self.classifier = nn.Linear(config.hidden_size, num_labels)\n",
        "        nn.init.xavier_normal_(self.classifier.weight)\n",
        "\n",
        "    def forward(self, input_ids, token_type_ids=None, attention_mask=None, labels=None):\n",
        "        _, pooled_output = self.bert(input_ids, token_type_ids, attention_mask, output_all_encoded_layers=False)\n",
        "        pooled_output = self.dropout(pooled_output)\n",
        "        logits = self.classifier(pooled_output)\n",
        "        out = F.softmax(logits, dim=1)\n",
        "        return out\n",
        "\n",
        "\n",
        "def training(train_data, model, device, criterion, optimizer, epoch):\n",
        "    correct: int = 0\n",
        "    data_len: int = 0\n",
        "    total_loss: np.float = 0\n",
        "    start_time = time.time()\n",
        "    print('Training Epoch: {}'.format(epoch))\n",
        "    model.train()\n",
        "    for batch_idx, (data, mask, target) in enumerate(train_data):\n",
        "        if batch_idx%250 == 0:\n",
        "            print('.',end='')\n",
        "        \n",
        "        data = data.to(device)\n",
        "        mask = mask.to(device)\n",
        "        target = target.to(device)\n",
        "\n",
        "        optimizer.zero_grad()\n",
        "        target_predictions = model(data, token_type_ids=None, attention_mask=mask, labels=target)\n",
        "        loss = criterion(target_predictions, target)\n",
        "        loss.backward()\n",
        "        clip_grad_norm_(model.parameters(), 1.0)\n",
        "        optimizer.step()\n",
        "\n",
        "        total_loss += loss.item()\n",
        "        predicted_target = target_predictions.argmax(dim=1, keepdim=True)\n",
        "        correct += predicted_target.eq(target.view_as(predicted_target)).sum().item()\n",
        "        data_len += len(data)\n",
        "    \n",
        "    total_loss /= (batch_idx+1)\n",
        "    acc = 100.00 * (correct/data_len)\n",
        "    print(\"\\nTrain Loss: {:.6f}     Train Accuracy: {:.2f}%        Training Time: {:.2f} min\".format(total_loss, acc, (time.time()-start_time)/60.00))\n",
        "    return total_loss, acc\n"
      ],
      "execution_count": 17,
      "outputs": []
    },
    {
      "cell_type": "code",
      "metadata": {
        "id": "lmC45fD3KJJl"
      },
      "source": [
        ""
      ],
      "execution_count": null,
      "outputs": []
    },
    {
      "cell_type": "code",
      "metadata": {
        "id": "t6OQQ6EoKJW7"
      },
      "source": [
        ""
      ],
      "execution_count": null,
      "outputs": []
    },
    {
      "cell_type": "code",
      "metadata": {
        "id": "pSf-lp1GDZZA"
      },
      "source": [
        "dataframe = pd.read_csv(\"train.tsv\", sep=\"\\t\")\n",
        "# dataframe[\"Phrase_filter\"] = dataframe.Phrase.apply(lambda rec: _parse_line(rec))\n",
        "train_data, test_data = train_test_split(dataframe, test_size=0.2, shuffle=True)\n",
        "\n",
        "train_data = MovieReviewDataset(train_data, PADDING_SIZE)\n",
        "test_data = MovieReviewDataset(test_data, PADDING_SIZE)\n",
        "\n",
        "train_data = DataLoader(train_data, batch_size, shuffle=True)\n",
        "test_data = DataLoader(test_data, batch_size, shuffle=True)"
      ],
      "execution_count": 11,
      "outputs": []
    },
    {
      "cell_type": "code",
      "metadata": {
        "colab": {
          "base_uri": "https://localhost:8080/"
        },
        "id": "vV3C-Dl2kBWD",
        "outputId": "d0371b68-9505-4de2-e8b8-6cac2d6e6e29"
      },
      "source": [
        "test_data"
      ],
      "execution_count": 13,
      "outputs": [
        {
          "output_type": "execute_result",
          "data": {
            "text/plain": [
              "<torch.utils.data.dataloader.DataLoader at 0x7f58e8783b50>"
            ]
          },
          "metadata": {
            "tags": []
          },
          "execution_count": 13
        }
      ]
    },
    {
      "cell_type": "code",
      "metadata": {
        "id": "9nTknpChDZZB"
      },
      "source": [
        "PAD = 40\n",
        "Test = pd.read_csv(TEST_CSV_PATH, index_col = 0)\n",
        "Train = pd.read_csv(TRAIN_CSV_PATH, index_col = 0)\n",
        "Val = Train.sample(n = 30000)\n",
        "Val = Val.reset_index(drop = True)\n",
        "Train = Train.drop(Val.index).reset_index(drop = True)\n",
        "\n",
        "train_data = SentimentDataset(Train)\n",
        "val_data = SentimentDataset(Val)\n",
        "test_data = SentimentDataset(Test)"
      ],
      "execution_count": null,
      "outputs": []
    },
    {
      "cell_type": "code",
      "metadata": {
        "id": "FhB431C5DZZB"
      },
      "source": [
        "import torch\n",
        "import torch.nn as nn\n",
        "from transformers import BertModel, BertConfig\n",
        "import torch.nn.functional as F\n",
        "\n",
        "class BertForSentiment(nn.Module):\n",
        "\n",
        "    def __init__(self, vocab_file,\n",
        "                 num_classes,\n",
        "                 hidden_size=768,\n",
        "                 num_hidden_layers=12,\n",
        "                 num_attention_heads=12,\n",
        "                 hidden_dropout_prob=0.1):\n",
        "        super(BertForSentiment, self).__init__()\n",
        "        self.config = BertConfig(hidden_size=hidden_size,\n",
        "                                 num_hiddel_layers=num_hidden_layers,\n",
        "                                 num_attention_heads=num_attention_heads,\n",
        "                                 hidden_dropout_prob=hidden_dropout_prob)\n",
        "        self.bert = BertModel.from_pretrained(vocab_file)\n",
        "        self.dropout = nn.Dropout(hidden_dropout_prob)\n",
        "        self.classifier = nn.Linear(hidden_size, num_classes)\n",
        "\n",
        "    def forward(self, input_ids, attention_mask, token_type_ids=None, labels=None):\n",
        "        # sequence_output, pooled_output, (hidden_states), (attentions)\n",
        "        outputs = self.bert(input_ids=input_ids,\n",
        "                            attention_mask=attention_mask,\n",
        "                            token_type_ids=token_type_ids)num_classes\n",
        "        pooled_output = self.dropout(outputs[1])\n",
        "        logits = self.classifier(pooled_output)\n",
        "        log_logits = F.log_softmax(logits)\n",
        "        return log_logits"
      ],
      "execution_count": null,
      "outputs": []
    }
  ]
}