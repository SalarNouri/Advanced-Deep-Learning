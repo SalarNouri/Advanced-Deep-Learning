{
  "nbformat": 4,
  "nbformat_minor": 0,
  "metadata": {
    "language_info": {
      "codemirror_mode": {
        "name": "ipython",
        "version": 3
      },
      "file_extension": ".py",
      "mimetype": "text/x-python",
      "name": "python",
      "nbconvert_exporter": "python",
      "pygments_lexer": "ipython3",
      "version": "3.8.5-final"
    },
    "orig_nbformat": 2,
    "kernelspec": {
      "name": "python38564bitadlvenvbd9a5c10f53f49eca40cc1477bddc462",
      "display_name": "Python 3.8.5 64-bit ('adl': venv)",
      "language": "python"
    },
    "colab": {
      "name": "compute.ipynb",
      "provenance": []
    }
  },
  "cells": [
    {
      "cell_type": "code",
      "metadata": {
        "id": "NIvGQcmbFOEg"
      },
      "source": [
        "pip install pytorch-pretrained-bert"
      ],
      "execution_count": null,
      "outputs": []
    },
    {
      "cell_type": "code",
      "metadata": {
        "id": "DHzYX19aDZYv"
      },
      "source": [
        "import re\n",
        "import torch\n",
        "import pandas as pd\n",
        "import numpy as np\n",
        "from torch.utils.data import dataloader, Dataset, DataLoader\n",
        "from pytorch_pretrained_bert import BertTokenizer\n",
        "from sklearn.model_selection import train_test_split\n",
        "\n",
        "PADDING_SIZE: int = 300\n",
        "batch_size: int = 32\n",
        "\n",
        "def _parse_line(line):\n",
        "    line = line.strip().lower()\n",
        "    line = line.replace(\"&nbsp;\", \" \")\n",
        "    line = re.sub(r'<br(\\s\\/)?>', ' ', line)\n",
        "    line = re.sub(r' +', ' ', line)  # merge multiple spaces to one\n",
        "    return line\n",
        "\n",
        "\n",
        "class MovieReviewDataset(Dataset):\n",
        "    def __init__(self, dataframe, padding_size: int):\n",
        "        self.tokenizer = BertTokenizer.from_pretrained('bert-base-uncased', do_lower_case=True)\n",
        "        self.reviews = dataframe['Phrase']\n",
        "        self.labels = torch.as_tensor(np.array(dataframe[\"Sentiment\"]), dtype=torch.long)\n",
        "        self.max_length = padding_size\n",
        "\n",
        "    def __len__(self):\n",
        "        return len(self.reviews)\n",
        "\n",
        "    def __getitem__(self, item):\n",
        "        encoded_dict = self.tokenizer.encode_plus(self.reviews[item],\n",
        "                                                  add_special_tokens = True,\n",
        "                                                  max_length = self.max_length,\n",
        "                                                  pad_to_max_length = True,\n",
        "                                                  return_attention_mask = True,\n",
        "                                                  return_tensors = 'pt')\n",
        "        return (encoded_dict['input_ids'].view(-1), \n",
        "                encoded_dict['attention_mask'].view(-1), \n",
        "                self.labels[item])\n",
        "    \n",
        "    "
      ],
      "execution_count": 9,
      "outputs": []
    },
    {
      "cell_type": "code",
      "metadata": {
        "id": "pSf-lp1GDZZA"
      },
      "source": [
        "dataframe = pd.read_csv(\"train.tsv\", sep=\"\\t\")\n",
        "# dataframe[\"Phrase_filter\"] = dataframe.Phrase.apply(lambda rec: _parse_line(rec))\n",
        "train_data, test_data = train_test_split(dataframe, test_size=0.2, shuffle=True)\n",
        "\n",
        "train_data = MovieReviewDataset(train_data, PADDING_SIZE)\n",
        "test_data = MovieReviewDataset(test_data, PADDING_SIZE)\n",
        "\n",
        "train_data = DataLoader(train_data, batch_size, shuffle=True)\n",
        "test_data = DataLoader(test_data, batch_size, shuffle=True)"
      ],
      "execution_count": 11,
      "outputs": []
    },
    {
      "cell_type": "code",
      "metadata": {
        "id": "vV3C-Dl2kBWD",
        "outputId": "d0371b68-9505-4de2-e8b8-6cac2d6e6e29",
        "colab": {
          "base_uri": "https://localhost:8080/"
        }
      },
      "source": [
        "test_data"
      ],
      "execution_count": 13,
      "outputs": [
        {
          "output_type": "execute_result",
          "data": {
            "text/plain": [
              "<torch.utils.data.dataloader.DataLoader at 0x7f58e8783b50>"
            ]
          },
          "metadata": {
            "tags": []
          },
          "execution_count": 13
        }
      ]
    },
    {
      "cell_type": "code",
      "metadata": {
        "id": "9nTknpChDZZB"
      },
      "source": [
        "PAD = 40\n",
        "Test = pd.read_csv(TEST_CSV_PATH, index_col = 0)\n",
        "Train = pd.read_csv(TRAIN_CSV_PATH, index_col = 0)\n",
        "Val = Train.sample(n = 30000)\n",
        "Val = Val.reset_index(drop = True)\n",
        "Train = Train.drop(Val.index).reset_index(drop = True)\n",
        "\n",
        "train_data = SentimentDataset(Train)\n",
        "val_data = SentimentDataset(Val)\n",
        "test_data = SentimentDataset(Test)"
      ],
      "execution_count": null,
      "outputs": []
    },
    {
      "cell_type": "code",
      "metadata": {
        "id": "FhB431C5DZZB"
      },
      "source": [
        "import torch\n",
        "import torch.nn as nn\n",
        "from transformers import BertModel, BertConfig\n",
        "import torch.nn.functional as F\n",
        "\n",
        "class BertForSentiment(nn.Module):\n",
        "\n",
        "    def __init__(self, vocab_file,\n",
        "                 num_classes,\n",
        "                 hidden_size=768,\n",
        "                 num_hidden_layers=12,\n",
        "                 num_attention_heads=12,\n",
        "                 hidden_dropout_prob=0.1):\n",
        "        super(BertForSentiment, self).__init__()\n",
        "        self.config = BertConfig(hidden_size=hidden_size,\n",
        "                                 num_hiddel_layers=num_hidden_layers,\n",
        "                                 num_attention_heads=num_attention_heads,\n",
        "                                 hidden_dropout_prob=hidden_dropout_prob)\n",
        "        self.bert = BertModel.from_pretrained(vocab_file)\n",
        "        self.dropout = nn.Dropout(hidden_dropout_prob)\n",
        "        self.classifier = nn.Linear(hidden_size, num_classes)\n",
        "\n",
        "    def forward(self, input_ids, attention_mask, token_type_ids=None, labels=None):\n",
        "        # sequence_output, pooled_output, (hidden_states), (attentions)\n",
        "        outputs = self.bert(input_ids=input_ids,\n",
        "                            attention_mask=attention_mask,\n",
        "                            token_type_ids=token_type_ids)num_classes\n",
        "        pooled_output = self.dropout(outputs[1])\n",
        "        logits = self.classifier(pooled_output)\n",
        "        log_logits = F.log_softmax(logits)\n",
        "        return log_logits"
      ],
      "execution_count": null,
      "outputs": []
    }
  ]
}