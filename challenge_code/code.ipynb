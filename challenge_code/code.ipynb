{
 "metadata": {
  "language_info": {
   "codemirror_mode": {
    "name": "ipython",
    "version": 3
   },
   "file_extension": ".py",
   "mimetype": "text/x-python",
   "name": "python",
   "nbconvert_exporter": "python",
   "pygments_lexer": "ipython3",
   "version": "3.8.5-final"
  },
  "orig_nbformat": 2,
  "kernelspec": {
   "name": "python38564bitadlvenvbd9a5c10f53f49eca40cc1477bddc462",
   "display_name": "Python 3.8.5 64-bit ('adl': venv)",
   "language": "python"
  }
 },
 "nbformat": 4,
 "nbformat_minor": 2,
 "cells": [
  {
   "cell_type": "code",
   "execution_count": null,
   "metadata": {},
   "outputs": [],
   "source": [
    "import pandas as pd\n",
    "import numpy as np\n",
    "import matplotlib.pyplot as plt\n",
    "from typing import List\n",
    "from sklearn.preprocessing import StandardScaler\n",
    "from sklearn.decomposition import PCA\n",
    "\n",
    "\n",
    "NUM_PCA_COMPONENT: int = 2\n",
    "\n",
    "def get_data() -> List[pd.DataFrame]:\n",
    "    input_train_data = pd.read_csv('train_x.csv')\n",
    "    output_train_data = pd.read_csv('train_y.csv')\n",
    "    input_test_data = pd.read_csv('test_x.csv')\n",
    "    return input_train_data, output_train_data, input_test_data\n",
    "\n",
    "\n",
    "def standardize_data() -> List[np.ndarray]:\n",
    "    input_train_data, out_train, input_test_data = get_data()\n",
    "    in_train = StandardScaler().fit_transform(input_train_data)\n",
    "    in_test = StandardScaler().fit_transform(input_test_data)\n",
    "    return in_train, in_test, out_train\n",
    "\n",
    "\n",
    "def project_data(data: pd.DataFrame) -> pd.DataFrame:\n",
    "    pca = PCA(n_components=NUM_PCA_COMPONENT)\n",
    "    principalComponents = pca.fit_transform(data)\n",
    "    principalDf = pd.DataFrame(data = principalComponents,\n",
    "                                columns = ['principal component 1', 'principal component 2'])\n",
    "    return principalDf\n",
    "\n",
    "\n",
    "def visualize_data(final_df: pd.DataFrame):\n",
    "    fig = plt.figure(figsize = (8,8))\n",
    "    ax = fig.add_subplot(1,1,1) \n",
    "    ax.set_xlabel('Principal Component 1', fontsize = 15)\n",
    "    ax.set_ylabel('Principal Component 2', fontsize = 15)\n",
    "    ax.set_title('2 component PCA', fontsize = 20)\n",
    "    targets = [1, 0]\n",
    "    colors = ['r', 'g']\n",
    "    for target, color in zip(targets,colors):\n",
    "        indicesToKeep = final_df['target'] == target\n",
    "        ax.scatter(final_df.loc[indicesToKeep, 'principal component 1']\n",
    "                , final_df.loc[indicesToKeep, 'principal component 2']\n",
    "                , c = color\n",
    "                , s = 50)\n",
    "    ax.legend(targets)\n",
    "    ax.grid()"
   ]
  },
  {
   "cell_type": "code",
   "execution_count": null,
   "metadata": {},
   "outputs": [],
   "source": [
    "in_train, in_test, out_train = standardize_data()\n",
    "principal_df = project_data(in_train)\n",
    "final_df = pd.concat([principal_df, out_train[['target']]], axis = 1)\n"
   ]
  },
  {
   "cell_type": "code",
   "execution_count": null,
   "metadata": {},
   "outputs": [],
   "source": [
    "fig = plt.figure(figsize = (8,8))\n",
    "ax = fig.add_subplot(1,1,1) \n",
    "ax.set_xlabel('Principal Component 1', fontsize = 15)\n",
    "ax.set_ylabel('Principal Component 2', fontsize = 15)\n",
    "ax.set_title('2 component PCA', fontsize = 20)\n",
    "targets = [0, 1]\n",
    "colors = ['r', 'g']\n",
    "for target, color in zip(targets,colors):\n",
    "    indicesToKeep = final_df['target'] == target\n",
    "    ax.scatter(final_df.loc[indicesToKeep, 'principal component 1'],\n",
    "                final_df.loc[indicesToKeep, 'principal component 2'],\n",
    "                c = color,\n",
    "                s = 50)\n",
    "ax.legend(targets)\n",
    "ax.grid()"
   ]
  }
 ]
}