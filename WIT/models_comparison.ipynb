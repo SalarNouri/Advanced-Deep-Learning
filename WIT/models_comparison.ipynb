{
  "nbformat": 4,
  "nbformat_minor": 0,
  "metadata": {
    "colab": {
      "name": "models_comparison.ipynb",
      "provenance": [],
      "collapsed_sections": [],
      "toc_visible": true,
      "authorship_tag": "ABX9TyOhmhEkY7h7wFoB2SHOGaWc",
      "include_colab_link": true
    },
    "kernelspec": {
      "name": "python3",
      "display_name": "Python 3"
    },
    "language_info": {
      "name": "python"
    }
  },
  "cells": [
    {
      "cell_type": "markdown",
      "metadata": {
        "id": "view-in-github",
        "colab_type": "text"
      },
      "source": [
        "<a href=\"https://colab.research.google.com/github/SalarNouri/Advanced-Deep-Learning/blob/main/WIT/models_comparison.ipynb\" target=\"_parent\"><img src=\"https://colab.research.google.com/assets/colab-badge.svg\" alt=\"Open In Colab\"/></a>"
      ]
    },
    {
      "cell_type": "code",
      "metadata": {
        "id": "FMxJ9xgqn8em",
        "cellView": "form"
      },
      "source": [
        "#@title Import nesecassary libraries\n",
        "\n",
        "import pandas as pd\n",
        "import numpy as np\n",
        "import tensorflow as tf\n",
        "\n",
        "from keras import models\n",
        "from tensorflow_addons import metrics\n",
        "from witwidget.notebook.visualization import WitWidget, WitConfigBuilder\n"
      ],
      "execution_count": 11,
      "outputs": []
    },
    {
      "cell_type": "code",
      "metadata": {
        "id": "hpSrgvDYl-E8",
        "cellView": "form"
      },
      "source": [
        "#@title Load dataset\n",
        "\n",
        "from google.colab import files\n",
        "uploaded = files.upload()"
      ],
      "execution_count": null,
      "outputs": []
    },
    {
      "cell_type": "code",
      "metadata": {
        "colab": {
          "base_uri": "https://localhost:8080/"
        },
        "id": "ejix9ijNJ2GN",
        "outputId": "f6d42578-96ed-4641-d401-9a7b8f9ad138"
      },
      "source": [
        "!tar -xvf  '/content/isfahan_models1.tar.gz'"
      ],
      "execution_count": 23,
      "outputs": [
        {
          "output_type": "stream",
          "text": [
            "build/\n",
            "build/assets/\n",
            "build/variables/\n",
            "build/variables/variables.data-00000-of-00001\n",
            "build/variables/variables.index\n",
            "build/saved_model.pb\n"
          ],
          "name": "stdout"
        }
      ]
    },
    {
      "cell_type": "code",
      "metadata": {
        "id": "3cN2UYGx8-7S"
      },
      "source": [
        "#@title Install the What-If Tool widget if running in colab {display-mode: \"form\"}\n",
        "\n",
        "# If running in colab then pip install, otherwise no need.\n",
        "try:\n",
        "  import google.colab\n",
        "  !pip install --upgrade tensorflow>=2.0.0 witwidget \n",
        "except Exception:\n",
        "  pass"
      ],
      "execution_count": 15,
      "outputs": []
    },
    {
      "cell_type": "code",
      "metadata": {
        "cellView": "form",
        "id": "PNUsHfrgjIp0"
      },
      "source": [
        "#@title  Metrics: F1 and MCC\n",
        "def f1(y_true, y_pred):\n",
        "    def recall_m(label, predicted):\n",
        "        tp = keras_backend.sum(keras_backend.round(keras_backend.clip(label * predicted, 0, 1)))\n",
        "        positives = keras_backend.sum(keras_backend.round(keras_backend.clip(label, 0, 1)))\n",
        "\n",
        "        return tp / (positives + keras_backend.epsilon())\n",
        "\n",
        "    def precision_m(label, predicted):\n",
        "        true_positive = keras_backend.sum(keras_backend.round(keras_backend.clip(label * predicted, 0, 1)))\n",
        "        predicted_positive = keras_backend.sum(keras_backend.round(keras_backend.clip(predicted, 0, 1)))\n",
        "        return true_positive / (predicted_positive + keras_backend.epsilon())\n",
        "\n",
        "    precision, recall = precision_m(y_true, y_pred), recall_m(y_true, y_pred)\n",
        "\n",
        "    return 2 * ((precision * recall) / (precision + recall + keras_backend.epsilon()))\n",
        "\n",
        "\n",
        "def mcc(y_true, y_pred):\n",
        "    y_pred_pos = keras_backend.round(keras_backend.clip(y_pred, 0, 1))\n",
        "    y_pred_neg = 1 - y_pred_pos\n",
        "\n",
        "    y_pos = keras_backend.round(keras_backend.clip(y_true, 0, 1))\n",
        "    y_neg = 1 - y_pos\n",
        "\n",
        "    tp = keras_backend.sum(y_pos * y_pred_pos)\n",
        "    tn = keras_backend.sum(y_neg * y_pred_neg)\n",
        "\n",
        "    fp = keras_backend.sum(y_neg * y_pred_pos)\n",
        "    fn = keras_backend.sum(y_pos * y_pred_neg)\n",
        "\n",
        "    numerator = (tp * tn - fp * fn)\n",
        "    denominator = keras_backend.sqrt((tp + fp) * (tn + fn) * (tn + fp) * (tp + fn))\n",
        "    return numerator / (denominator + keras_backend.epsilon())"
      ],
      "execution_count": 18,
      "outputs": []
    },
    {
      "cell_type": "code",
      "metadata": {
        "id": "RKHNMJce7oeB",
        "cellView": "form"
      },
      "source": [
        "#@title Load the keras models\n",
        "\n",
        "model1 = models.load_model('first_model.h5')\n",
        "model2 = models.load_model('second_model.h5')"
      ],
      "execution_count": null,
      "outputs": []
    },
    {
      "cell_type": "code",
      "metadata": {
        "colab": {
          "base_uri": "https://localhost:8080/"
        },
        "id": "vRiD9_ySdX_d",
        "outputId": "c04b4080-218c-4420-950e-881f2b6e3e90"
      },
      "source": [
        "# model_history = models.load_model('/content/build/')\n",
        "\n",
        "model_history1 = models.load_model('/content/build1/', compile=False, custom_objects={'f1':f1, 'mcc':mcc}) "
      ],
      "execution_count": 21,
      "outputs": [
        {
          "output_type": "stream",
          "text": [
            "WARNING:tensorflow:SavedModel saved prior to TF 2.5 detected when loading Keras model. Please ensure that you are saving the model with model.save() or tf.keras.models.save_model(), *NOT* tf.saved_model.save(). To confirm, there should be a file named \"keras_metadata.pb\" in the SavedModel directory.\n"
          ],
          "name": "stdout"
        }
      ]
    },
    {
      "cell_type": "code",
      "metadata": {
        "colab": {
          "base_uri": "https://localhost:8080/"
        },
        "id": "bwR8e9GPoUX6",
        "outputId": "116acaf0-3296-4752-9872-f53e0bedffb4"
      },
      "source": [
        "pred = model_history1.predict(features)"
      ],
      "execution_count": 60,
      "outputs": [
        {
          "output_type": "execute_result",
          "data": {
            "text/plain": [
              "array([6000.], dtype=float32)"
            ]
          },
          "metadata": {
            "tags": []
          },
          "execution_count": 60
        }
      ]
    },
    {
      "cell_type": "code",
      "metadata": {
        "id": "0rhm_tV2AiUq",
        "cellView": "form"
      },
      "source": [
        "#@title Define custom prediction functions so that WIT infers using keras models\n",
        "\n",
        "# WIT predict functions:\n",
        "def custom_predict(model_inputs):\n",
        "  predictions = model1.predict(model_ins)\n",
        "  return predictions"
      ],
      "execution_count": null,
      "outputs": []
    },
    {
      "cell_type": "code",
      "metadata": {
        "id": "VQSZ8NqkA31A",
        "cellView": "form"
      },
      "source": [
        "#@title Define helper functions for dataset conversion from csv to tf.Examples\n",
        "\n",
        "# Converts a dataframe into a list of tf.Example protos.\n",
        "def df_to_examples(df, columns=None):\n",
        "  examples = []\n",
        "  if columns == None:\n",
        "    columns = df.columns.values.tolist()\n",
        "  for index, row in df.iterrows():\n",
        "    example = tf.train.Example()\n",
        "    for col in columns:\n",
        "      if df[col].dtype is np.dtype(np.int64):\n",
        "        example.features.feature[col].int64_list.value.append(int(row[col]))\n",
        "      elif df[col].dtype is np.dtype(np.float64):\n",
        "        example.features.feature[col].float_list.value.append(row[col])\n",
        "      elif row[col] == row[col]:\n",
        "        example.features.feature[col].bytes_list.value.append(row[col].encode('utf-8'))\n",
        "    examples.append(example)\n",
        "  return examples"
      ],
      "execution_count": 24,
      "outputs": []
    },
    {
      "cell_type": "code",
      "metadata": {
        "id": "QXZw-Oe9ndBb",
        "cellView": "form"
      },
      "source": [
        "#@title Read dataset and examine the algorithm\n",
        "\n",
        "data =  pd.read_json(open(\"sample_data_isfahan_for_lstm.json\", \"r\", encoding=\"utf8\"))\n",
        "# examples = df_to_examples(data)\n",
        "data = data.astype(float)\n",
        "data.drop(columns=['with_waiting', 'has_extra_destination', 'extra_destination_district_id', 'origin_in_even_odd'], inplace=True)\n",
        "labels = np.array(data.pop('finished'))\n",
        "features = np.array(data)"
      ],
      "execution_count": 54,
      "outputs": []
    },
    {
      "cell_type": "code",
      "metadata": {
        "id": "RDcz-QcXG3Ha"
      },
      "source": [
        "#@title Invoke What-If Tool for the data and two models (Note that this step may take a while due to prediction speed of the toxicity model){display-mode: \"form\"}\n",
        "\n",
        "Num_DataPoinst: int = 1000  #@param {type: \"number\"}\n",
        "tool_height_in_px: int = 720  #@param {type: \"number\"}\n",
        "\n",
        "# Setup the tool with the test examples and the trained classifier\n",
        "\n",
        "config_builder = WitConfigBuilder(examples[:num_datapoints]).set_custom_predict_fn(\n",
        "  custom_predict_1).set_compare_custom_predict_fn(custom_predict_2).set_custom_distance_fn(\n",
        "      universal_sentence_encoder_distance)\n",
        "\n",
        "wv = WitWidget(config_builder, height=tool_height_in_px)"
      ],
      "execution_count": null,
      "outputs": []
    }
  ]
}