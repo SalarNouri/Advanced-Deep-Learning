{
  "nbformat": 4,
  "nbformat_minor": 0,
  "metadata": {
    "colab": {
      "name": "models_comparison.ipynb",
      "provenance": [],
      "collapsed_sections": [],
      "authorship_tag": "ABX9TyOvGtJ7fLiw2N9mMbVDCpe9",
      "include_colab_link": true
    },
    "kernelspec": {
      "name": "python3",
      "display_name": "Python 3"
    },
    "language_info": {
      "name": "python"
    }
  },
  "cells": [
    {
      "cell_type": "markdown",
      "metadata": {
        "id": "view-in-github",
        "colab_type": "text"
      },
      "source": [
        "<a href=\"https://colab.research.google.com/github/SalarNouri/Advanced-Deep-Learning/blob/main/models_comparison.ipynb\" target=\"_parent\"><img src=\"https://colab.research.google.com/assets/colab-badge.svg\" alt=\"Open In Colab\"/></a>"
      ]
    },
    {
      "cell_type": "code",
      "metadata": {
        "id": "3cN2UYGx8-7S"
      },
      "source": [
        "#@title Install the What-If Tool widget if running in colab {display-mode: \"form\"}\n",
        "\n",
        "# If running in colab then pip install, otherwise no need.\n",
        "\n",
        "try:\n",
        "  import google.colab\n",
        "  !pip install --upgrade tensorflow>=2.0.0 witwidget \n",
        "except Exception:\n",
        "  pass"
      ],
      "execution_count": null,
      "outputs": []
    },
    {
      "cell_type": "code",
      "metadata": {
        "id": "FMxJ9xgqn8em",
        "cellView": "form"
      },
      "source": [
        "#@title Import nesecassary libraries\n",
        "\n",
        "import json\n",
        "import pandas as pd\n",
        "import numpy as np\n",
        "import tensorflow as tf\n",
        "\n",
        "from google.protobuf import json_format\n",
        "from tensorflow.keras import models\n",
        "from witwidget.notebook.visualization import WitWidget, WitConfigBuilder\n"
      ],
      "execution_count": null,
      "outputs": []
    },
    {
      "cell_type": "code",
      "metadata": {
        "id": "VQSZ8NqkA31A",
        "cellView": "form"
      },
      "source": [
        "#@title Define helper functions for dataset conversion\n",
        "\n",
        "# Converts a dataframe into a list of tf.Example protos.\n",
        "def df_to_examples(df, columns=None) -> tf.train.Example:\n",
        "  examples = []\n",
        "  if columns == None:\n",
        "    columns = df.columns.values.tolist()\n",
        "  for index, row in df.iterrows():\n",
        "    example = tf.train.Example()\n",
        "    for col in columns:\n",
        "      if df[col].dtype is np.dtype(np.int64):\n",
        "        example.features.feature[col].int64_list.value.append(int(row[col]))\n",
        "      elif df[col].dtype is np.dtype(np.float64):\n",
        "        example.features.feature[col].float_list.value.append(row[col])\n",
        "      elif row[col] == row[col]:\n",
        "        example.features.feature[col].bytes_list.value.append(row[col].encode('utf-8'))\n",
        "    examples.append(example)\n",
        "  return examples\n",
        "\n",
        "# Convert list of tf.Examples into dataframe\n",
        "\n",
        "def tfexample_to_df(example:tf.train.Example) -> pd.DataFrame:\n",
        "    df_example = pd.DataFrame([])\n",
        "    idx = 0\n",
        "    for item in features:\n",
        "      example_json = json_format.MessageToJson(item)\n",
        "      data = json.loads(example_json)\n",
        "      z = data['features']['feature']\n",
        "      for key, value in z.items():\n",
        "        new_value = ( list(value.values())[0] ).values()\n",
        "        z[key] = float(np.array(list(new_value)[0]))\n",
        "      x = pd.DataFrame(z, index=[0])\n",
        "      df_example = df_example.append(x, ignore_index=True)\n",
        "    return df_example"
      ],
      "execution_count": null,
      "outputs": []
    },
    {
      "cell_type": "code",
      "metadata": {
        "id": "OPIeDej8Luk9",
        "cellView": "form"
      },
      "source": [
        "#@title Features Name\n",
        "\n",
        "features_name = {'price': 1,\n",
        " 'hour': 0,\n",
        " 'weekday': 0,\n",
        " 'estimated_distance': 0,\n",
        " 'with_waiting': 0,\n",
        " 'price_to_est_dist': 0,\n",
        " 'has_extra_destination': 0,\n",
        " 'origin_district_id': 0,\n",
        " 'destination_district_id': 0,\n",
        " 'extra_destination_district_id': 0,\n",
        " 'origin_in_even_odd': 0,\n",
        " 'destination_in_even_odd': 0,\n",
        " 'extra_destination_in_even_odd': 0,\n",
        " 'origin_in_traffic_zone': 0,\n",
        " 'destination_in_traffic_zone': 0,\n",
        " 'destination_city_id': 1,\n",
        " 'vehicle_model_id': 0,\n",
        " 'vehicle_color_id': 0,\n",
        " 'driver_service_type': 0,\n",
        " 'rating': 0,\n",
        " 'oldest': 0,\n",
        " 'driver_city_id': 0,\n",
        " 'has_traffic_license': 0,\n",
        " 'driver_score': 1,\n",
        " 'score_to_est_dist': 0,\n",
        " 'week_offers': 1,\n",
        " 'previous_offers': 0,\n",
        " 'offers_std': 1,\n",
        " 'week_accepts': 1,\n",
        " 'previous_accepts': 1,\n",
        " 'accepts_std': 1,\n",
        " 'week_accepts_valid': 1,\n",
        " 'accepts_valid_std': 1,\n",
        " 'week_rides': 1,\n",
        " 'rides_std': 1,\n",
        " 'week_accept_rates': 1,\n",
        " 'previous_a_rate': 1,\n",
        " 'accept_rates_std': 1,\n",
        " 'week_finish_rates': 1,\n",
        " 'previous_f_rates': 0,\n",
        " 'finish_rates_std': 1,\n",
        " 'week_t_cancel_rides': 1,\n",
        " 'week_t_cancel_rates': 0,\n",
        " 't_cancel_rates_std': 1,\n",
        " 'week_cancel_rates_by_d': 0,\n",
        " 'cancel_rates_by_d_std': 0,\n",
        " 'week_cancel_rates_by_p': 0,\n",
        " 'week_cancel_rides_by_d': 1,\n",
        " 'week_cancel_rides_by_p': 1,\n",
        " 'week_t_ma': 0,\n",
        " 'previous_t_ma': 0,\n",
        " 'week_per_distance': 1,\n",
        " 'per_distance_std': 1,\n",
        " 'est_distance_to_avg_rides': 0,\n",
        " 'week_income': 0,\n",
        " 'week_income_ride': 1,\n",
        " 'income_ride_std': 1,\n",
        " 'price_to_week_income_ride': 0,\n",
        " 't_week_active': 0,\n",
        " 't_week_available': 0,\n",
        " 'driver_segment': 1,\n",
        " 'finished':1}"
      ],
      "execution_count": null,
      "outputs": []
    },
    {
      "cell_type": "code",
      "metadata": {
        "id": "QXZw-Oe9ndBb",
        "cellView": "form"
      },
      "source": [
        "#@title Read and Modify dataset\n",
        "\n",
        "data =  pd.read_json(open(\"sample_data_isfahan_for_lstm.json\", \"r\", encoding=\"utf8\"))\n",
        "data = data.astype(float)\n",
        "labels = np.array(data.pop('finished'))\n",
        "data = data[data.columns.intersection(list(features_name.keys()))]\n",
        "# features = np.array(data)\n",
        "features = df_to_examples(data)"
      ],
      "execution_count": null,
      "outputs": []
    },
    {
      "cell_type": "code",
      "metadata": {
        "id": "ejix9ijNJ2GN",
        "cellView": "form"
      },
      "source": [
        "#@title Untar/Unzip models\n",
        "\n",
        "# !tar -xvf  '/content/isfahan_model.tar.gz'\n",
        "\n",
        "!tar -xvf  '/content/isfahan_models1.tar.gz'"
      ],
      "execution_count": null,
      "outputs": []
    },
    {
      "cell_type": "code",
      "metadata": {
        "id": "PNUsHfrgjIp0",
        "cellView": "form"
      },
      "source": [
        "#@title  Metrics: F1 and MCC\n",
        "\n",
        "def f1(y_true, y_pred):\n",
        "    def recall_m(label, predicted):\n",
        "        tp = keras_backend.sum(keras_backend.round(keras_backend.clip(label * predicted, 0, 1)))\n",
        "        positives = keras_backend.sum(keras_backend.round(keras_backend.clip(label, 0, 1)))\n",
        "\n",
        "        return tp / (positives + keras_backend.epsilon())\n",
        "\n",
        "    def precision_m(label, predicted):\n",
        "        true_positive = keras_backend.sum(keras_backend.round(keras_backend.clip(label * predicted, 0, 1)))\n",
        "        predicted_positive = keras_backend.sum(keras_backend.round(keras_backend.clip(predicted, 0, 1)))\n",
        "        return true_positive / (predicted_positive + keras_backend.epsilon())\n",
        "\n",
        "    precision, recall = precision_m(y_true, y_pred), recall_m(y_true, y_pred)\n",
        "\n",
        "    return 2 * ((precision * recall) / (precision + recall + keras_backend.epsilon()))\n",
        "\n",
        "\n",
        "def mcc(y_true, y_pred):\n",
        "    y_pred_pos = keras_backend.round(keras_backend.clip(y_pred, 0, 1))\n",
        "    y_pred_neg = 1 - y_pred_pos\n",
        "\n",
        "    y_pos = keras_backend.round(keras_backend.clip(y_true, 0, 1))\n",
        "    y_neg = 1 - y_pos\n",
        "\n",
        "    tp = keras_backend.sum(y_pos * y_pred_pos)\n",
        "    tn = keras_backend.sum(y_neg * y_pred_neg)\n",
        "\n",
        "    fp = keras_backend.sum(y_neg * y_pred_pos)\n",
        "    fn = keras_backend.sum(y_pos * y_pred_neg)\n",
        "\n",
        "    numerator = (tp * tn - fp * fn)\n",
        "    denominator = keras_backend.sqrt((tp + fp) * (tn + fn) * (tn + fp) * (tp + fn))\n",
        "    return numerator / (denominator + keras_backend.epsilon())"
      ],
      "execution_count": null,
      "outputs": []
    },
    {
      "cell_type": "code",
      "metadata": {
        "id": "RKHNMJce7oeB",
        "cellView": "form"
      },
      "source": [
        "#@title Load the keras models\n",
        "\n",
        "model_history1 = models.load_model('/content/build/', custom_objects={'f1':f1, 'mcc':mcc})\n",
        "model_history2 = models.load_model('/content/build1/', custom_objects={'f1':f1, 'mcc':mcc}) "
      ],
      "execution_count": null,
      "outputs": []
    },
    {
      "cell_type": "code",
      "metadata": {
        "id": "0rhm_tV2AiUq",
        "cellView": "form"
      },
      "source": [
        "#@title Define custom prediction functions so that WIT infers using keras models\n",
        "\n",
        "# WIT predict functions:\n",
        "\n",
        "def custom_predict_1(examples_to_infer):\n",
        "  predictions = model_history1.predict(tfexample_to_df(examples_to_infer))\n",
        "  return predictions\n",
        "\n",
        "\n",
        "def custom_predict_2(examples_to_infer):\n",
        "  predictions = model_history2.predict(tfexample_to_df(examples_to_infer))\n",
        "  return predictions"
      ],
      "execution_count": null,
      "outputs": []
    },
    {
      "cell_type": "code",
      "metadata": {
        "id": "RDcz-QcXG3Ha",
        "cellView": "form"
      },
      "source": [
        "#@title Invoke What-If Tool for the data and two models\n",
        "\n",
        "Num_DataPoints: int = 1000  #@param {type: \"number\"}\n",
        "tool_height_in_px: int = 720  #@param {type: \"number\"}\n",
        "\n",
        "# Setup the tool with the test examples and the trained classifier\n",
        "\n",
        "config_builder = WitConfigBuilder(features[:Num_DataPoints]).set_custom_predict_fn(\n",
        "  custom_predict_1).set_compare_custom_predict_fn(custom_predict_2)\n",
        "\n",
        "wv = WitWidget(config_builder, height=tool_height_in_px)"
      ],
      "execution_count": null,
      "outputs": []
    }
  ]
}