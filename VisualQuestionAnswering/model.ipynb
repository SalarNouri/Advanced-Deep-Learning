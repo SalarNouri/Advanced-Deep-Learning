{
 "metadata": {
  "language_info": {
   "codemirror_mode": {
    "name": "ipython",
    "version": 3
   },
   "file_extension": ".py",
   "mimetype": "text/x-python",
   "name": "python",
   "nbconvert_exporter": "python",
   "pygments_lexer": "ipython3",
   "version": "3.8.5-final"
  },
  "orig_nbformat": 2,
  "kernelspec": {
   "name": "python38564bitadlvenvbd9a5c10f53f49eca40cc1477bddc462",
   "display_name": "Python 3.8.5 64-bit ('adl': venv)",
   "language": "python"
  }
 },
 "nbformat": 4,
 "nbformat_minor": 2,
 "cells": [
  {
   "cell_type": "code",
   "execution_count": null,
   "metadata": {},
   "outputs": [],
   "source": [
    "import numpy as np\n",
    "from prepare_data import get_data\n",
    "from keras import models, layers, optimizers, backend\n",
    "\n",
    "\n",
    "(train_X_ims, train_X_seqs, train_Y, test_X_ims, test_X_seqs,\n",
    "            test_Y, im_shape, vocab_size, num_answers,\n",
    "            all_answers, test_qs, test_answer_indices) = get_data()\n",
    "\n",
    "\n",
    "image_input = layers.Input(shape=im_shape)\n",
    "image_layers = layers.Conv2D(8, 3, padding='same')(image_input)\n",
    "image_layers = layers.MaxPooling2D()(image_layers)\n",
    "image_layers = layers.Conv2D(16, 3, padding='same')(image_layers)\n",
    "image_layers = layers.MaxPooling2D()(image_layers)\n",
    "image_layers = layers.Flatten()(image_layers)\n",
    "image_layers = layers.Dense(32, activation='tanh')(image_layers)\n",
    "\n",
    "# The question networks\n",
    "q_input = layers.Input(shape=(train_X_seqs.shape[-1],))\n",
    "\n",
    "q_layers = layers.Dense(32, activation='tanh')(q_input)\n",
    "q_layers = layers.Dense(32, activation='tanh')(q_layers)\n",
    "q_layers = layers.Dense(1, activation='tanh')(q_layers)\n",
    "\n",
    "# Merge -> output\n",
    "out = layers.Multiply()([image_layers, q_layers])\n",
    "out = layers.Embedding(input_dim=vocab_size, output_dim=60)(out)\n",
    "out = layers.Dense(32, activation='tanh')(out)\n",
    "out = layers.Flatten()(out)\n",
    "out = layers.Dense(num_answers, activation='softmax')(out)\n",
    "\n",
    "model = models.Model(inputs=[image_input, q_input], outputs=out)\n",
    "model.compile(optimizers.Adam(lr=5e-4), loss='categorical_crossentropy', metrics=['accuracy'])\n"
   ]
  },
  {
   "cell_type": "code",
   "execution_count": null,
   "metadata": {},
   "outputs": [],
   "source": [
    "model_history = model.fit([train_X_ims, train_X_seqs], train_Y,\n",
    "                        epochs=10,\n",
    "                        batch_size=128,\n",
    "                        verbose=2,\n",
    "                        shuffle='batch',\n",
    "                        validation_split=0.2)"
   ]
  },
  {
   "cell_type": "code",
   "execution_count": null,
   "metadata": {},
   "outputs": [],
   "source": [
    "model.summary()"
   ]
  },
  {
   "cell_type": "code",
   "execution_count": null,
   "metadata": {},
   "outputs": [],
   "source": [
    "layer_index: int = 11\n",
    "get_embedding_output = backend.function([model.layers[layer_index].input],\n",
    "                                  [model.layers[layer_index].output])\n",
    "embedding_output = get_embedding_output([input_data])[0]"
   ]
  },
  {
   "cell_type": "code",
   "execution_count": null,
   "metadata": {},
   "outputs": [],
   "source": [
    "from sklearn.neighbors import KNeighborsClassifier\n",
    "\n",
    "X_train = input_data\n",
    "y_train = model.predict(input_data)\n",
    "knn = KNeighborsClassifier(n_neighbors=k,\n",
    "                           weights='distance').fit(X_train, y_train)"
   ]
  },
  {
   "cell_type": "code",
   "execution_count": null,
   "metadata": {},
   "outputs": [],
   "source": [
    "from sklearn.neighbors import KNeighborsClassifier\n",
    "from sklearn.metrics import accuracy_score, precision_recall_fscore_support\n",
    "\n",
    "def knn_performance(X_train, y_train, X_test, y_test, k=4, preds_file=''):\n",
    "    '''\n",
    "    Given a train and test split, measure the overall accuracy,\n",
    "    precision, recall, F-1 score and support of the kNN classifier.\n",
    "    '''\n",
    "    knn = KNeighborsClassifier(n_neighbors=k,\n",
    "                               weights='distance').fit(X_train, y_train)\n",
    "\n",
    "    predictions = knn.predict(X_test)\n",
    "\n",
    "    acc = accuracy_score(y_test, predictions)\n",
    "    prfs = np.vstack(precision_recall_fscore_support(predictions, y_test))\n",
    "\n",
    "    print('Overall accuracy: {:f}'.format(acc))\n",
    "    print('')\n",
    "    print(pd.DataFrame(data=prfs,\n",
    "                       index=['Precision', 'Recall', 'F-1', 'Support'],\n",
    "                       columns=knn.classes_))\n",
    "\n",
    "    if preds_file:\n",
    "        np.savetxt(preds_file, predictions, delimiter=' ', fmt='%s')\n",
    "\n",
    "    return acc, prfs"
   ]
  }
 ]
}